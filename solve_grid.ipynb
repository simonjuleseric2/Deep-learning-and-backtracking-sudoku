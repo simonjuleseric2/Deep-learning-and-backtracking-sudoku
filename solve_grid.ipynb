{
 "cells": [
  {
   "cell_type": "code",
   "execution_count": 3,
   "metadata": {},
   "outputs": [
    {
     "name": "stderr",
     "output_type": "stream",
     "text": [
      "Using TensorFlow backend.\n"
     ]
    }
   ],
   "source": [
    "import numpy as np\n",
    "import cv2\n",
    "from grid_detection import *\n",
    "import keras\n",
    "from keras.models import load_model\n",
    "\n",
    "import matplotlib.pyplot as plt\n"
   ]
  },
  {
   "cell_type": "code",
   "execution_count": 4,
   "metadata": {},
   "outputs": [],
   "source": [
    "#reagange list in list of list for each row:\n",
    "def rearange_list(nlist):\n",
    "    dlist=[]\n",
    "    for i in range(0, 9):\n",
    "        k=9*i\n",
    "        l=k+9\n",
    "        sub_list=nlist[k:l]\n",
    "        dlist.append(sub_list)\n",
    "    return np.matrix(dlist)\n",
    "\n",
    "\n",
    "#check if a value is a possible fix for an empty slot\n",
    "def verify_possile_value(x, y, n, grid):\n",
    "    for i in range(0, 9):\n",
    "        if grid[x, i]==n:\n",
    "            return False\n",
    "        \n",
    "    for i in range(0, 9):\n",
    "        if grid[i, y]==n:\n",
    "            return False\n",
    "    x0=(x//3)*3\n",
    "    y0=(y//3)*3\n",
    "    for i in range(0, 3):\n",
    "        for j in range(0, 3):\n",
    "            if grid[x0+i, y0+j]==n:\n",
    "                return False\n",
    "            \n",
    "    return True\n",
    "\n",
    "\n",
    "\n",
    "#fill in the empty slots:\n",
    "def grid_solver(grid):\n",
    "    for x in range(9):\n",
    "        for y in range(9):\n",
    "            if grid[x, y]==0:\n",
    "                for n in range(1, 10):\n",
    "                    if verify_possile_value(x, y, n, grid):\n",
    "                        grid[x, y]=n\n",
    "                        result=grid_solver(grid)\n",
    "                        \n",
    "                        if result is not None:\n",
    "                            return result\n",
    "                        \n",
    "                        grid[x, y]=0 #Backtracking\n",
    "                return None               \n",
    "    return grid\n",
    "\n",
    "\n",
    "\n",
    "\n",
    "        "
   ]
  },
  {
   "cell_type": "code",
   "execution_count": 5,
   "metadata": {},
   "outputs": [],
   "source": [
    "digits, coord=detect_grid_image('sample_img/su4.jpg')"
   ]
  },
  {
   "cell_type": "code",
   "execution_count": 6,
   "metadata": {},
   "outputs": [],
   "source": [
    "model_path='models/digit_recognition_model2.h5'\n",
    "model = load_model(model_path)\n",
    "pred=model.predict(digits)"
   ]
  },
  {
   "cell_type": "code",
   "execution_count": 7,
   "metadata": {},
   "outputs": [
    {
     "name": "stdout",
     "output_type": "stream",
     "text": [
      "[[0 0 0 0 2 1 0 3 4]\n",
      " [6 0 0 0 0 3 2 0 0]\n",
      " [0 0 0 5 0 0 0 6 0]\n",
      " [4 0 9 0 5 0 0 0 0]\n",
      " [0 2 0 0 0 0 0 4 0]\n",
      " [0 0 0 0 7 0 9 0 2]\n",
      " [0 9 0 0 0 6 0 0 0]\n",
      " [0 0 1 2 0 0 0 0 6]\n",
      " [3 7 0 4 8 0 0 0 0]]\n"
     ]
    }
   ],
   "source": [
    "list_values=list(pred.argmax(1))\n",
    "matrix_cell=rearange_list(list_values)\n",
    "print(matrix_cell)"
   ]
  },
  {
   "cell_type": "code",
   "execution_count": null,
   "metadata": {},
   "outputs": [],
   "source": [
    "result=grid_solver(matrix_cell)\n",
    "print(result)"
   ]
  }
 ],
 "metadata": {
  "kernelspec": {
   "display_name": "Python (simenv)",
   "language": "python",
   "name": "simenv"
  },
  "language_info": {
   "codemirror_mode": {
    "name": "ipython",
    "version": 3
   },
   "file_extension": ".py",
   "mimetype": "text/x-python",
   "name": "python",
   "nbconvert_exporter": "python",
   "pygments_lexer": "ipython3",
   "version": "3.7.6"
  }
 },
 "nbformat": 4,
 "nbformat_minor": 4
}
